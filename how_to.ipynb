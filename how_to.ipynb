{
 "cells": [
  {
   "attachments": {},
   "cell_type": "markdown",
   "metadata": {},
   "source": [
    "# Desafio para área de Data Engineering\n",
    "---"
   ]
  },
  {
   "attachments": {},
   "cell_type": "markdown",
   "metadata": {},
   "source": [
    "## Case\n",
    "Ingestão de novas informações\n",
    "Você foi contratado pela DHAUZ como engenheiro de dados para trabalhar na operação de um\n",
    "ambiente analítico de dados e recebe como tarefa realizar a análise e manipulação de informações\n",
    "objetivando responder a algumas perguntas de negócio.\n",
    "\n",
    "O seu desafio é realizar a leitura dessas informações de uma fonte externa, aplicar os processamentos\n",
    "necessários e então responder as questões levantadas.\n",
    "\n",
    "### Tabelas\n",
    "<img src=\"utils/tabela.png\">"
   ]
  },
  {
   "attachments": {},
   "cell_type": "markdown",
   "metadata": {},
   "source": [
    "### Criação do Repositório\n",
    " - Git init\n",
    " - Criação de um venv para o projeto\n",
    " - Setar o kernel do venv para o jupyter\n",
    " - Instalar dependencias\n",
    " - Criar arquivo .env\n",
    " - Configurar .gitignore\n"
   ]
  },
  {
   "cell_type": "code",
   "execution_count": null,
   "metadata": {},
   "outputs": [
    {
     "ename": "",
     "evalue": "",
     "output_type": "error",
     "traceback": [
      "\u001b[1;31mRunning cells with 'venv' requires the ipykernel package.\n",
      "\u001b[1;31mRun the following command to install 'ipykernel' into the Python environment. \n",
      "\u001b[1;31mCommand: 'c:/Users/Junio/OneDrive/Documentos/Python_Scripts/dhauz_case/venv/Scripts/python.exe -m pip install ipykernel -U --force-reinstall'"
     ]
    }
   ],
   "source": [
    "#Criação de um ambiente virtual para isolamento das dependencias do projeto, selecione o novo kernel\n",
    "!python -m venv venv"
   ]
  },
  {
   "cell_type": "code",
   "execution_count": 2,
   "metadata": {},
   "outputs": [],
   "source": [
    "#Instale para conseguir se comunicar com o Jupyter\n",
    "!pip install ipykernel"
   ]
  },
  {
   "cell_type": "code",
   "execution_count": 11,
   "metadata": {},
   "outputs": [
    {
     "name": "stdout",
     "output_type": "stream",
     "text": [
      "Collecting python-dotenv\n",
      "  Using cached python_dotenv-1.0.0-py3-none-any.whl (19 kB)\n",
      "Installing collected packages: python-dotenv\n",
      "Successfully installed python-dotenv-1.0.0\n"
     ]
    }
   ],
   "source": [
    "#Instale para se connectar a instancia do bd, pyenv para carregar arquivo .env\n",
    "#!pip install mysql-connector-python\n",
    "!pip install python-dotenv"
   ]
  },
  {
   "cell_type": "code",
   "execution_count": 2,
   "metadata": {},
   "outputs": [],
   "source": [
    "#Criando função de conexão e consulta\n",
    "import mysql.connector  \n",
    "import os, queries\n",
    "from dotenv import load_dotenv; load_dotenv() #carrega segredos no .env\n",
    "\n",
    "def make_connection():\n",
    "    \"\"\"Cria conexão com o banco de dados através do arquivo .env de configuração\n",
    "\n",
    "    Returns:\n",
    "        _type_: _mysql.connector.connection_cext.CMySQLConnection_\n",
    "    \"\"\"    \n",
    "    con = mysql.connector.connect(user=os.getenv('USER'),password=os.getenv('PSWD'), \\\n",
    "        host=os.getenv('HOST'), database=os.getenv('DB'))\n",
    "    return con\n",
    "\n",
    "def select(query):\n",
    "    \"\"\"_Realiza o processo de executar consulta_\n",
    "\n",
    "    Args:\n",
    "        query (_type_): _string_\n",
    "\n",
    "    Returns:\n",
    "        _type_: _list_\n",
    "    \"\"\"    \n",
    "    con = make_connection()\n",
    "    cursor = con.cursor()\n",
    "    cursor.execute(query)\n",
    "    result = cursor.fetchall()\n",
    "\n",
    "    if con.is_connected():\n",
    "        cursor.close()\n",
    "        con.close()\n",
    "        \n",
    "    return result"
   ]
  },
  {
   "attachments": {},
   "cell_type": "markdown",
   "metadata": {},
   "source": [
    "#1\n",
    "### Questões\n",
    "\n",
    "1. Qual é o endereço (carteira) com maior volume de transações enviadas?\n",
    "---\n",
    "> Explicação: \n",
    "Nessa primeira questão utilizo duas CTE que me ajudam a agregar dados, tratar datas (também usadas posteriormente)\n",
    "e com a soma da quantidade de transações agrupada pela carteira que fez o envio, é possível identificar a que teve um volume maior.\n",
    "       <font size=\"1\">\n",
    "```sql \n",
    "WITH \n",
    "ntr_transactions AS (\n",
    "-- Note: 0 = Monday, 1 = Tuesday, 2 = Wednesday, 3 = Thursday, 4 = Friday, 5 = Saturday, 6 = Sunday.\n",
    "SELECT SentDate, MONTH(SentDate) as _month,  DAY(SentDate) AS month_day, WEEKDAY(SentDate) week_day, \n",
    "       AddressOrigin AS address_origin, 1 as n_t \n",
    "FROM raw_transactions_table rtt \n",
    "WHERE status in ('Confirmed')\n",
    "),\n",
    "\n",
    "ntr_agg_transactions AS (\n",
    "SELECT _month, month_day, week_day, address_origin, sum(n_t) as n_transactions\n",
    "FROM ntr_transactions \n",
    "WHERE _month = 1\n",
    "group by 1,2,3,4\n",
    ")\n",
    "\n",
    "-- CARTEIRA COM MAIOR TRANSACACOES\n",
    "SELECT address_origin, SUM(n_transactions) as sum_n_transactions\n",
    "FROM ntr_agg_transactions GROUP BY 1 ORDER BY 2 DESC LIMIT 1```\n",
    "</font>"
   ]
  },
  {
   "cell_type": "code",
   "execution_count": 4,
   "metadata": {},
   "outputs": [
    {
     "name": "stdout",
     "output_type": "stream",
     "text": [
      "[('A-99', Decimal('89'))]\n"
     ]
    }
   ],
   "source": [
    "print(select(queries.QUESTAO_1))\n",
    "    "
   ]
  },
  {
   "attachments": {},
   "cell_type": "markdown",
   "metadata": {},
   "source": [
    "2. Qual é o dia do mês com maior volume de transações realizadas?\n",
    "> Explicação: \n",
    "Utilizando as mesmas duas CTE's da primeira questão, agregando a coluna de dias criada é possível somar as transacoes\n",
    "e obter o dia com a maior quantidade.\n",
    "<font size=\"1\">\n",
    "``` sql\n",
    "WITH \n",
    "ntr_transactions AS (\n",
    "-- Note: 0 = Monday, 1 = Tuesday, 2 = Wednesday, 3 = Thursday, 4 = Friday, 5 = Saturday, 6 = Sunday.\n",
    "SELECT SentDate, MONTH(SentDate) as _month,  DAY(SentDate) AS month_day, WEEKDAY(SentDate) week_day, \n",
    "       AddressOrigin AS address_origin, 1 as n_t \n",
    "FROM raw_transactions_table rtt \n",
    "WHERE status in ('Confirmed')\n",
    "),\n",
    "\n",
    "ntr_agg_transactions AS (\n",
    "SELECT _month, month_day, week_day, address_origin, sum(n_t) as n_transactions\n",
    "FROM ntr_transactions \n",
    "WHERE _month = 1\n",
    "group by 1,2,3,4\n",
    ")\n",
    "\n",
    "-- DIA COM MAIOR TRANSACOES\n",
    "SELECT month_day, SUM(n_transactions) as sum_n_transactions\n",
    "FROM ntr_agg_transactions GROUP BY 1 ORDER BY 2 DESC LIMIT 1\n",
    "``` \n",
    "</font>"
   ]
  },
  {
   "cell_type": "code",
   "execution_count": 2,
   "metadata": {},
   "outputs": [
    {
     "name": "stdout",
     "output_type": "stream",
     "text": [
      "[(7, Decimal('286'))]\n"
     ]
    }
   ],
   "source": [
    "print(select(queries.QUESTAO_2))"
   ]
  },
  {
   "attachments": {},
   "cell_type": "markdown",
   "metadata": {},
   "source": [
    "3. Em qual dia da semana geralmente mais transações são realizadas?\n",
    "> Explicação: Para essa questão além das duas cte's utilizadas primeiramente, adicionei mais CTE\n",
    "que tem a função de abrir os dias das semanas dentro dos 31 dias do mês para calcular média com frequencia correta\n",
    "<font size=\"1\">\n",
    "```sql\n",
    "WITH \n",
    "ntr_transactions AS (\n",
    "-- Note: 0 = Monday, 1 = Tuesday, 2 = Wednesday, 3 = Thursday, 4 = Friday, 5 = Saturday, 6 = Sunday.\n",
    "SELECT SentDate, MONTH(SentDate) as _month,  DAY(SentDate) AS month_day, WEEKDAY(SentDate) week_day, \n",
    "       AddressOrigin AS address_origin, 1 as n_t \n",
    "FROM raw_transactions_table rtt \n",
    "WHERE status in ('Confirmed')\n",
    "),\n",
    "\n",
    "ntr_agg_transactions AS (\n",
    "SELECT _month, month_day, week_day, address_origin, sum(n_t) as n_transactions\n",
    "FROM ntr_transactions \n",
    "WHERE _month = 1\n",
    "group by 1,2,3,4\n",
    "),\n",
    "-- DIA SEMANA AVG TRANS REALIZADA\n",
    "ntr_agg AS (\n",
    "SELECT month_day, week_day, SUM(n_transactions) as nn_transactions\n",
    "FROM ntr_agg_transactions\n",
    "GROUP BY 1,2 ORDER BY 1) \n",
    "\n",
    "SELECT week_day, AVG(nn_transactions)\n",
    "FROM ntr_agg \n",
    "GROUP BY 1 ORDER BY 2 DESC LIMIT 1\n",
    "``` \n",
    "</font>"
   ]
  },
  {
   "cell_type": "code",
   "execution_count": 3,
   "metadata": {},
   "outputs": [
    {
     "name": "stdout",
     "output_type": "stream",
     "text": [
      "[(2, Decimal('221.5000'))]\n"
     ]
    }
   ],
   "source": [
    "print(select(queries.QUESTAO_3))"
   ]
  },
  {
   "attachments": {},
   "cell_type": "markdown",
   "metadata": {},
   "source": [
    "4. Quais transações possuem condições atípicas e precisam ser validadas com o time responsável pela disponibilização dos dados?\n",
    "> Explicação: Dois pontos, alguns campos de retorno status pelo que foi solicitado não se dá pra saber se deve ou não serem computados.\n",
    "Atualização: identificando outros pontos para as últimas questões percebi que ao manipular o ID que a importação de dados do mês vieram dados repetidos do mês um, estes serão removidos para todas as consultas\n",
    "* Resposta: Todas as transações que tem status diferente de confirmed, transações duplicadas na importação do mês um na importação do mês dois\n",
    "\n",
    "<font size=\"1\">\n",
    "```sql\n",
    "--Esta consulta retorna uma matriz de dados mês, status, qtd, os valores de Janeiro / Confirmed são os considerados, o resto atípico\n",
    "SELECT month(SentDate) AS _month, status, count(1)\n",
    "FROM raw_transactions_table rtt \n",
    "GROUP BY 1,2\n",
    "``` \n",
    "</font>"
   ]
  },
  {
   "cell_type": "code",
   "execution_count": null,
   "metadata": {},
   "outputs": [],
   "source": [
    "print(select(queries.QUESTAO_4))"
   ]
  },
  {
   "attachments": {},
   "cell_type": "markdown",
   "metadata": {},
   "source": [
    "5. Qual a carteira com o maior saldo final? (considere que todas as carteiras estejam zeradas no início das análises e que seja possível existir saldo negativo).\n",
    "> Explicação: CTE's criadas para coletar o que foi enviado e o que foi recebido, após é possível gerar um valor de saldo \n",
    "e chegar até o balanço mais positivo\n",
    "<font size=\"1\">\n",
    "```sql\n",
    "WITH \n",
    "ntr_rtt_clean AS(\n",
    "\tSELECT DISTINCT IdTransaction as id, AddressOrigin as origin, AddressDestination AS destination, \n",
    "\tTotalSent, MONTH(SentDate) as _month,\n",
    "\t-- Correção do campo TotalSent retiro da , e cast\n",
    "\tCAST(REPLACE(TotalSent,',','') AS FLOAT) as amount,\n",
    "\tSentDate \n",
    "\tFROM raw_transactions_table rtt \n",
    "\tWHERE Status = 'Confirmed'\n",
    "\tORDER BY id\n",
    "),\n",
    "ntr_amount_origin AS (\n",
    "\tSELECT origin, SUM(amount) AS amount\n",
    "\tFROM ntr_rtt_clean\n",
    "\tGROUP BY 1\n",
    "),\n",
    "\n",
    "ntr_amount_destination AS (\n",
    "\tSELECT destination, SUM(amount) AS amount\n",
    "\tFROM ntr_rtt_clean\n",
    "\tGROUP BY 1\n",
    "),\n",
    "\n",
    "ntr_amount_balance AS (\n",
    "\tSELECT nao.origin as wallet, (nad.amount - nao.amount) as balance\n",
    "\tFROM ntr_amount_origin nao \n",
    "\tLEFT JOIN ntr_amount_destination nad\n",
    "\tON nao.origin = nad.destination\n",
    ")\n",
    "\t\n",
    "SELECT wallet, balance FROM ntr_amount_balance ORDER BY balance DESC LIMIT 1\n",
    "```\n",
    "</font>"
   ]
  },
  {
   "attachments": {},
   "cell_type": "markdown",
   "metadata": {},
   "source": []
  },
  {
   "cell_type": "code",
   "execution_count": 2,
   "metadata": {},
   "outputs": [
    {
     "name": "stdout",
     "output_type": "stream",
     "text": [
      "[('A-30', 12715115.0)]\n"
     ]
    }
   ],
   "source": [
    "print(select(queries.QUESTAO_5))"
   ]
  },
  {
   "attachments": {},
   "cell_type": "markdown",
   "metadata": {},
   "source": [
    "6. Questões 1-4 pt 2:\n",
    "    * 6.1. Considerando que a carteira origem é responsável por pagar as taxas de envio, qual carteira\n",
    "    seria responsável pelo maior pagamento de taxas em janeiro de 2021?\n",
    "    * 6.2. E em fevereiro de 2021?\n",
    "    * 6.3. Qual é o id da transação com a maior taxa paga?\n",
    "    * 6.4. Qual é a média de taxa paga considerando todas as transações realizadas?\n",
    "> Explicação: Após entender alguns problemas que a base tinha como duplicidade, necessidade de corrigir o TotalSent, montei um CTE que serve como base para resolver todas as últimas questões e estruturei elas em formato de um relatório\n",
    "<font size=\"1\">\n",
    "```sql\n",
    "WITH \n",
    "-- Garante uma base analítica correta para as resoluções\n",
    "ntr_rtt_clean AS(\n",
    "\tSELECT DISTINCT IdTransaction as id, AddressOrigin as address, \n",
    "\tTotalSent, MONTH(SentDate) as _month,\n",
    "\t-- Correção do campo TotalSent retiro da , e cast\n",
    "\tCAST(REPLACE(TotalSent,',','') AS FLOAT) as amount,\n",
    "\tSentDate \n",
    "\tFROM raw_transactions_table rtt \n",
    "\tWHERE Status = 'Confirmed'\n",
    "\tORDER BY id\n",
    "),\n",
    "\n",
    "-- Agrupa os valores de taxas necessários para as resoluções\n",
    "ntr_amount_fee AS (\n",
    " SELECT ntc.id, ntc.address, ntc.amount, rtf.`fee-percentage`, \n",
    " \t\tntc.amount * (rtf.`fee-percentage`/100) as tax_amount, ntc._month, \n",
    " \t    CONCAT(ntc.id, ntc._month) as id_month\n",
    " FROM ntr_rtt_clean ntc \n",
    " LEFT JOIN raw_transactions_fee rtf \n",
    " ON ntc.amount >= rtf.`range-start`  \n",
    " AND ntc.amount <= rtf.`range-end` \n",
    " ORDER BY id\n",
    ") \n",
    "\n",
    "\n",
    "-- 4\n",
    "SELECT 'q4' as questao, \n",
    "       'media' as v1, \n",
    "       TRUNCATE(AVG(tax_amount),2) as v2\n",
    "FROM ntr_amount_fee\n",
    "\n",
    "UNION ALL\n",
    "\n",
    "-- 3\n",
    "(SELECT 'q3' as questao,\n",
    "\tid as v1, \n",
    "\ttax_amount as v2\n",
    "FROM ntr_amount_fee\n",
    "ORDER BY tax_amount DESC LIMIT 1)\n",
    "\n",
    "UNION ALL\n",
    "\n",
    "-- 2\n",
    "(\n",
    "SELECT 'q2' as questao, \n",
    "\taddress as v1, \n",
    "\tTRUNCATE(SUM(tax_amount),2) as v2\n",
    "FROM ntr_amount_fee\n",
    "WHERE _month = 2\n",
    "GROUP BY 1 ORDER BY 2 DESC LIMIT 1 \n",
    ")\n",
    "\n",
    "UNION ALL\n",
    "-- 1\n",
    "(\n",
    "SELECT 'q1' as questao,\n",
    "\taddress as v1, \n",
    "\tTRUNCATE(SUM(tax_amount),2) as v2\n",
    "FROM ntr_amount_fee\n",
    "WHERE _month = 1\n",
    "GROUP BY 1 ORDER BY 2 DESC LIMIT 1\n",
    ")\n",
    "``` \n",
    "</font>"
   ]
  },
  {
   "attachments": {},
   "cell_type": "markdown",
   "metadata": {},
   "source": []
  },
  {
   "cell_type": "code",
   "execution_count": 3,
   "metadata": {},
   "outputs": [
    {
     "name": "stdout",
     "output_type": "stream",
     "text": [
      "[('q4', 'media', 21711.24), ('q3', 'ID635', 33485.05), ('q2', 'A-87', 3512161.19), ('q1', 'A-43', 64813138.38)]\n"
     ]
    }
   ],
   "source": [
    "print(select(queries.QUESTAO_6))"
   ]
  },
  {
   "attachments": {},
   "cell_type": "markdown",
   "metadata": {},
   "source": [
    "### Script\n",
    "> Por fim será criado o script result.py com os resultados de todas as questões"
   ]
  },
  {
   "cell_type": "code",
   "execution_count": 21,
   "metadata": {},
   "outputs": [],
   "source": [
    "#Criando função de conexão e consulta\n",
    "import mysql.connector  \n",
    "import os, queries\n",
    "from dotenv import load_dotenv; load_dotenv() #carrega segredos no .env\n",
    "\n",
    "def make_connection():\n",
    "    \"\"\"Cria conexão com o banco de dados através do arquivo .env de configuração\n",
    "\n",
    "    Returns:\n",
    "        _type_: _mysql.connector.connection_cext.CMySQLConnection_\n",
    "    \"\"\"    \n",
    "    con = mysql.connector.connect(user=os.getenv('USER'),password=os.getenv('PSWD'), \\\n",
    "        host=os.getenv('HOST'), database=os.getenv('DB'))\n",
    "    return con\n",
    "\n",
    "def select(query):\n",
    "    \"\"\"_Realiza o processo de executar consulta_\n",
    "\n",
    "    Args:\n",
    "        query (_type_): _string_\n",
    "\n",
    "    Returns:\n",
    "        _type_: _list_\n",
    "    \"\"\"    \n",
    "    con = make_connection()\n",
    "    cursor = con.cursor()\n",
    "    cursor.execute(query)\n",
    "    result = cursor.fetchall()\n",
    "\n",
    "    if con.is_connected():\n",
    "        cursor.close()\n",
    "        con.close()\n",
    "        \n",
    "    return result\n",
    "\n",
    "def pretty_print(result_list, question_number):\n",
    "    if question_number < 6:\n",
    "        print(f'q{question_number}\\t{result_list[0][0]}\\t{result_list[0][1]}')\n",
    "    else:\n",
    "        for q in result_list:\n",
    "            print(f'{q[0]}\\t{q[1]}\\t{q[2]}')"
   ]
  },
  {
   "cell_type": "code",
   "execution_count": 24,
   "metadata": {},
   "outputs": [
    {
     "name": "stdout",
     "output_type": "stream",
     "text": [
      "Questao\tV1\tV2\n",
      "q1\tA-99\t45\n",
      "q2\t7\t139\n",
      "q3\t3\t106.0000\n",
      "q4\t1\tConfirmed\n",
      "q5\tA-30\t12715115.0\n",
      "--------------------\n",
      "q4\tmedia\t21711.24\n",
      "q3\tID635\t33485.05\n",
      "q2\tA-87\t3512161.19\n",
      "q1\tA-43\t64813138.38\n"
     ]
    }
   ],
   "source": [
    "print('Questao\\tV1\\tV2')\n",
    "pretty_print(select(queries.QUESTAO_1),1)\n",
    "pretty_print(select(queries.QUESTAO_2),2)\n",
    "pretty_print(select(queries.QUESTAO_3),3)\n",
    "pretty_print(select(queries.QUESTAO_4),4)\n",
    "pretty_print(select(queries.QUESTAO_5),5)\n",
    "print('-'*20)\n",
    "pretty_print(select(queries.QUESTAO_6),6)"
   ]
  },
  {
   "cell_type": "code",
   "execution_count": 25,
   "metadata": {},
   "outputs": [],
   "source": [
    "# freeze de dependencias para requiriments\n",
    "!pip freeze > requirements.txt"
   ]
  },
  {
   "cell_type": "code",
   "execution_count": null,
   "metadata": {},
   "outputs": [],
   "source": []
  }
 ],
 "metadata": {
  "kernelspec": {
   "display_name": "Python 3",
   "language": "python",
   "name": "python3"
  },
  "language_info": {
   "codemirror_mode": {
    "name": "ipython",
    "version": 3
   },
   "file_extension": ".py",
   "mimetype": "text/x-python",
   "name": "python",
   "nbconvert_exporter": "python",
   "pygments_lexer": "ipython3",
   "version": "3.10.11"
  },
  "orig_nbformat": 4
 },
 "nbformat": 4,
 "nbformat_minor": 2
}
